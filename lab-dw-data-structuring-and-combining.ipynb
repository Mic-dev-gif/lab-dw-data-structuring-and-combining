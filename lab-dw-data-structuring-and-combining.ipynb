{
 "cells": [
  {
   "cell_type": "markdown",
   "id": "25d7736c-ba17-4aff-b6bb-66eba20fbf4e",
   "metadata": {
    "id": "25d7736c-ba17-4aff-b6bb-66eba20fbf4e"
   },
   "source": [
    "# Lab | Data Structuring and Combining Data"
   ]
  },
  {
   "cell_type": "markdown",
   "id": "a2cdfc70-44c8-478c-81e7-2bc43fdf4986",
   "metadata": {
    "id": "a2cdfc70-44c8-478c-81e7-2bc43fdf4986"
   },
   "source": [
    "## Challenge 1: Combining & Cleaning Data\n",
    "\n",
    "In this challenge, we will be working with the customer data from an insurance company, as we did in the two previous labs. The data can be found here:\n",
    "- https://raw.githubusercontent.com/data-bootcamp-v4/data/main/file1.csv\n",
    "\n",
    "But this time, we got new data, which can be found in the following 2 CSV files located at the links below.\n",
    "\n",
    "- https://raw.githubusercontent.com/data-bootcamp-v4/data/main/file2.csv\n",
    "- https://raw.githubusercontent.com/data-bootcamp-v4/data/main/file3.csv\n",
    "\n",
    "Note that you'll need to clean and format the new data.\n",
    "\n",
    "Observation:\n",
    "- One option is to first combine the three datasets and then apply the cleaning function to the new combined dataset\n",
    "- Another option would be to read the clean file you saved in the previous lab, and just clean the two new files and concatenate the three clean datasets"
   ]
  },
  {
   "cell_type": "code",
   "execution_count": 1,
   "id": "492d06e3-92c7-4105-ac72-536db98d3244",
   "metadata": {
    "id": "492d06e3-92c7-4105-ac72-536db98d3244"
   },
   "outputs": [
    {
     "name": "stdout",
     "output_type": "stream",
     "text": [
      "Dataset 1:\n",
      "   Customer          ST GENDER             Education Customer Lifetime Value  \\\n",
      "0  RB50392  Washington    NaN                Master                     NaN   \n",
      "1  QZ44356     Arizona      F              Bachelor              697953.59%   \n",
      "2  AI49188      Nevada      F              Bachelor             1288743.17%   \n",
      "3  WW63253  California      M              Bachelor              764586.18%   \n",
      "4  GA49547  Washington      M  High School or Below              536307.65%   \n",
      "\n",
      "    Income  Monthly Premium Auto Number of Open Complaints     Policy Type  \\\n",
      "0      0.0                1000.0                    1/0/00   Personal Auto   \n",
      "1      0.0                  94.0                    1/0/00   Personal Auto   \n",
      "2  48767.0                 108.0                    1/0/00   Personal Auto   \n",
      "3      0.0                 106.0                    1/0/00  Corporate Auto   \n",
      "4  36357.0                  68.0                    1/0/00   Personal Auto   \n",
      "\n",
      "   Vehicle Class  Total Claim Amount  \n",
      "0  Four-Door Car            2.704934  \n",
      "1  Four-Door Car         1131.464935  \n",
      "2   Two-Door Car          566.472247  \n",
      "3            SUV          529.881344  \n",
      "4  Four-Door Car           17.269323  \n",
      "\n",
      "Dataset 2:\n",
      "   Customer          ST GENDER Education Customer Lifetime Value  Income  \\\n",
      "0  GS98873     Arizona      F  Bachelor              323912.47%   16061   \n",
      "1  CW49887  California      F    Master              462680.11%   79487   \n",
      "2  MY31220  California      F   College              899704.02%   54230   \n",
      "3  UH35128      Oregon      F   College             2580706.30%   71210   \n",
      "4  WH52799     Arizona      F   College              380812.21%   94903   \n",
      "\n",
      "   Monthly Premium Auto Number of Open Complaints  Total Claim Amount  \\\n",
      "0                    88                    1/0/00               633.6   \n",
      "1                   114                    1/0/00               547.2   \n",
      "2                   112                    1/0/00               537.6   \n",
      "3                   214                    1/1/00              1027.2   \n",
      "4                    94                    1/0/00               451.2   \n",
      "\n",
      "      Policy Type  Vehicle Class  \n",
      "0   Personal Auto  Four-Door Car  \n",
      "1    Special Auto            SUV  \n",
      "2   Personal Auto   Two-Door Car  \n",
      "3   Personal Auto     Luxury Car  \n",
      "4  Corporate Auto   Two-Door Car  \n",
      "\n",
      "Dataset 3:\n",
      "   Customer       State  Customer Lifetime Value             Education Gender  \\\n",
      "0  SA25987  Washington              3479.137523  High School or Below      M   \n",
      "1  TB86706     Arizona              2502.637401                Master      M   \n",
      "2  ZL73902      Nevada              3265.156348              Bachelor      F   \n",
      "3  KX23516  California              4455.843406  High School or Below      F   \n",
      "4  FN77294  California              7704.958480  High School or Below      M   \n",
      "\n",
      "   Income  Monthly Premium Auto  Number of Open Complaints    Policy Type  \\\n",
      "0       0                   104                          0  Personal Auto   \n",
      "1       0                    66                          0  Personal Auto   \n",
      "2   25820                    82                          0  Personal Auto   \n",
      "3       0                   121                          0  Personal Auto   \n",
      "4   30366                   101                          2  Personal Auto   \n",
      "\n",
      "   Total Claim Amount  Vehicle Class  \n",
      "0          499.200000   Two-Door Car  \n",
      "1            3.468912   Two-Door Car  \n",
      "2          393.600000  Four-Door Car  \n",
      "3          699.615192            SUV  \n",
      "4          484.800000            SUV  \n"
     ]
    }
   ],
   "source": [
    "import pandas as pd\n",
    "\n",
    "# Load the three datasets\n",
    "url1 = \"https://raw.githubusercontent.com/data-bootcamp-v4/data/main/file1.csv\"\n",
    "url2 = \"https://raw.githubusercontent.com/data-bootcamp-v4/data/main/file2.csv\"\n",
    "url3 = \"https://raw.githubusercontent.com/data-bootcamp-v4/data/main/file3.csv\"\n",
    "\n",
    "df1 = pd.read_csv(url1)\n",
    "df2 = pd.read_csv(url2)\n",
    "df3 = pd.read_csv(url3)\n",
    "\n",
    "# Display the first few rows of each dataframe to understand their structure\n",
    "print(\"Dataset 1:\\n\", df1.head())\n",
    "print(\"\\nDataset 2:\\n\", df2.head())\n",
    "print(\"\\nDataset 3:\\n\", df3.head())\n"
   ]
  },
  {
   "cell_type": "code",
   "execution_count": 2,
   "id": "1e82b5cb",
   "metadata": {},
   "outputs": [],
   "source": [
    "# Clean df1\n",
    "df1.columns = df1.columns.str.lower().str.replace(' ', '_')\n",
    "# Apply data cleaning logic for df1 (standardize gender, state, etc.)\n",
    "\n",
    "# Clean df2\n",
    "df2.columns = df2.columns.str.lower().str.replace(' ', '_')\n",
    "# Apply data cleaning logic for df2\n",
    "\n",
    "# Clean df3\n",
    "df3.columns = df3.columns.str.lower().str.replace(' ', '_')\n",
    "# Apply data cleaning logic for df3\n"
   ]
  },
  {
   "cell_type": "code",
   "execution_count": 3,
   "id": "766feac2",
   "metadata": {},
   "outputs": [
    {
     "name": "stdout",
     "output_type": "stream",
     "text": [
      "\n",
      "Combined Dataset:\n",
      "   customer          st gender             education customer_lifetime_value  \\\n",
      "0  RB50392  Washington    NaN                Master                     NaN   \n",
      "1  QZ44356     Arizona      F              Bachelor              697953.59%   \n",
      "2  AI49188      Nevada      F              Bachelor             1288743.17%   \n",
      "3  WW63253  California      M              Bachelor              764586.18%   \n",
      "4  GA49547  Washington      M  High School or Below              536307.65%   \n",
      "\n",
      "    income  monthly_premium_auto number_of_open_complaints     policy_type  \\\n",
      "0      0.0                1000.0                    1/0/00   Personal Auto   \n",
      "1      0.0                  94.0                    1/0/00   Personal Auto   \n",
      "2  48767.0                 108.0                    1/0/00   Personal Auto   \n",
      "3      0.0                 106.0                    1/0/00  Corporate Auto   \n",
      "4  36357.0                  68.0                    1/0/00   Personal Auto   \n",
      "\n",
      "   vehicle_class  total_claim_amount state  \n",
      "0  Four-Door Car            2.704934   NaN  \n",
      "1  Four-Door Car         1131.464935   NaN  \n",
      "2   Two-Door Car          566.472247   NaN  \n",
      "3            SUV          529.881344   NaN  \n",
      "4  Four-Door Car           17.269323   NaN  \n"
     ]
    }
   ],
   "source": [
    "# Combine the cleaned datasets\n",
    "df_combined = pd.concat([df1, df2, df3], ignore_index=True)\n",
    "\n",
    "# Reset index after combining\n",
    "df_combined = df_combined.reset_index(drop=True)\n",
    "\n",
    "# Verify the combined dataframe\n",
    "print(\"\\nCombined Dataset:\\n\", df_combined.head())\n"
   ]
  },
  {
   "cell_type": "code",
   "execution_count": 6,
   "id": "89bd7a95",
   "metadata": {},
   "outputs": [
    {
     "name": "stdout",
     "output_type": "stream",
     "text": [
      "Index(['customer', 'st', 'gender', 'education', 'customer_lifetime_value',\n",
      "       'income', 'monthly_premium_auto', 'number_of_open_complaints',\n",
      "       'policy_type', 'vehicle_class', 'total_claim_amount', 'state'],\n",
      "      dtype='object')\n",
      "customer                      object\n",
      "st                            object\n",
      "gender                        object\n",
      "education                     object\n",
      "customer_lifetime_value       object\n",
      "income                       float64\n",
      "monthly_premium_auto         float64\n",
      "number_of_open_complaints     object\n",
      "policy_type                   object\n",
      "vehicle_class                 object\n",
      "total_claim_amount           float64\n",
      "state                         object\n",
      "dtype: object\n"
     ]
    }
   ],
   "source": [
    "# Display the column names and data types to identify the correct columns\n",
    "print(df_combined.columns)\n",
    "print(df_combined.dtypes)\n"
   ]
  },
  {
   "cell_type": "code",
   "execution_count": 8,
   "id": "4ba333b0",
   "metadata": {},
   "outputs": [
    {
     "name": "stdout",
     "output_type": "stream",
     "text": [
      "Index(['customer', 'st', 'gender', 'education', 'customer_lifetime_value',\n",
      "       'income', 'monthly_premium_auto', 'number_of_open_complaints',\n",
      "       'policy_type', 'vehicle_class', 'total_claim_amount', 'state'],\n",
      "      dtype='object')\n"
     ]
    }
   ],
   "source": [
    "# Check the column names of the combined dataframe\n",
    "print(df_combined.columns)\n"
   ]
  },
  {
   "cell_type": "code",
   "execution_count": 11,
   "id": "261e7ee0",
   "metadata": {},
   "outputs": [
    {
     "name": "stdout",
     "output_type": "stream",
     "text": [
      "0   NaN\n",
      "1   NaN\n",
      "2   NaN\n",
      "3   NaN\n",
      "4   NaN\n",
      "Name: number_of_open_complaints, dtype: float64\n"
     ]
    }
   ],
   "source": [
    "# Convert the 'number_of_open_complaints' column to numeric, forcing errors to NaN\n",
    "df_combined['number_of_open_complaints'] = pd.to_numeric(df_combined['number_of_open_complaints'], errors='coerce')\n",
    "\n",
    "# Check for non-numeric rows in the column\n",
    "print(df_combined['number_of_open_complaints'].head())  # Check the first few rows after cleaning\n"
   ]
  },
  {
   "cell_type": "code",
   "execution_count": 12,
   "id": "8cf52737",
   "metadata": {},
   "outputs": [
    {
     "name": "stdout",
     "output_type": "stream",
     "text": [
      "[nan  0.  2.  3.  1.  5.  4.]\n"
     ]
    }
   ],
   "source": [
    "# Check the unique values in the 'number_of_open_complaints' column\n",
    "print(df_combined['number_of_open_complaints'].unique())\n"
   ]
  },
  {
   "cell_type": "code",
   "execution_count": 13,
   "id": "733ff5c8",
   "metadata": {},
   "outputs": [
    {
     "name": "stdout",
     "output_type": "stream",
     "text": [
      "0    0.0\n",
      "1    0.0\n",
      "2    0.0\n",
      "3    0.0\n",
      "4    0.0\n",
      "Name: number_of_open_complaints, dtype: float64\n"
     ]
    }
   ],
   "source": [
    "# Fill missing values with the median of the 'number_of_open_complaints' column\n",
    "df_combined['number_of_open_complaints'] = df_combined['number_of_open_complaints'].fillna(df_combined['number_of_open_complaints'].median())\n",
    "\n",
    "# Verify the result\n",
    "print(df_combined['number_of_open_complaints'].head())\n"
   ]
  },
  {
   "cell_type": "code",
   "execution_count": 14,
   "id": "f7a96290",
   "metadata": {},
   "outputs": [
    {
     "name": "stdout",
     "output_type": "stream",
     "text": [
      "\n",
      "Missing values after cleaning:\n",
      " customer                      2937\n",
      "st                           10007\n",
      "gender                        3059\n",
      "education                     2937\n",
      "customer_lifetime_value       2944\n",
      "income                        2937\n",
      "monthly_premium_auto          2937\n",
      "number_of_open_complaints        0\n",
      "policy_type                   2937\n",
      "vehicle_class                 2937\n",
      "total_claim_amount            2937\n",
      "state                         5004\n",
      "dtype: int64\n"
     ]
    }
   ],
   "source": [
    "# Verify that no missing values remain\n",
    "print(\"\\nMissing values after cleaning:\\n\", df_combined.isnull().sum())\n"
   ]
  },
  {
   "cell_type": "code",
   "execution_count": 15,
   "id": "154f3b72",
   "metadata": {},
   "outputs": [
    {
     "name": "stdout",
     "output_type": "stream",
     "text": [
      "Cleaned combined dataset saved successfully.\n"
     ]
    }
   ],
   "source": [
    "# Save the cleaned combined dataset\n",
    "df_combined.to_csv(\"cleaned_combined_insurance_data.csv\", index=False)\n",
    "print(\"Cleaned combined dataset saved successfully.\")\n"
   ]
  },
  {
   "cell_type": "markdown",
   "id": "31b8a9e7-7db9-4604-991b-ef6771603e57",
   "metadata": {
    "id": "31b8a9e7-7db9-4604-991b-ef6771603e57"
   },
   "source": [
    "# Challenge 2: Structuring Data"
   ]
  },
  {
   "cell_type": "markdown",
   "id": "a877fd6d-7a0c-46d2-9657-f25036e4ca4b",
   "metadata": {
    "id": "a877fd6d-7a0c-46d2-9657-f25036e4ca4b"
   },
   "source": [
    "In this challenge, we will continue to work with customer data from an insurance company, but we will use a dataset with more columns, called marketing_customer_analysis.csv, which can be found at the following link:\n",
    "\n",
    "https://raw.githubusercontent.com/data-bootcamp-v4/data/main/marketing_customer_analysis_clean.csv\n",
    "\n",
    "This dataset contains information such as customer demographics, policy details, vehicle information, and the customer's response to the last marketing campaign. Our goal is to explore and analyze this data by performing data cleaning, formatting, and structuring."
   ]
  },
  {
   "cell_type": "code",
   "execution_count": 16,
   "id": "aa10d9b0-1c27-4d3f-a8e4-db6ab73bfd26",
   "metadata": {
    "id": "aa10d9b0-1c27-4d3f-a8e4-db6ab73bfd26"
   },
   "outputs": [
    {
     "name": "stdout",
     "output_type": "stream",
     "text": [
      "   unnamed:_0 customer       state  customer_lifetime_value response  \\\n",
      "0           0  DK49336     Arizona              4809.216960       No   \n",
      "1           1  KX64629  California              2228.525238       No   \n",
      "2           2  LZ68649  Washington             14947.917300       No   \n",
      "3           3  XL78013      Oregon             22332.439460      Yes   \n",
      "4           4  QA50777      Oregon              9025.067525       No   \n",
      "\n",
      "   coverage education effective_to_date employmentstatus gender  ...  \\\n",
      "0     Basic   College        2011-02-18         Employed      M  ...   \n",
      "1     Basic   College        2011-01-18       Unemployed      F  ...   \n",
      "2     Basic  Bachelor        2011-02-10         Employed      M  ...   \n",
      "3  Extended   College        2011-01-11         Employed      M  ...   \n",
      "4   Premium  Bachelor        2011-01-17    Medical Leave      F  ...   \n",
      "\n",
      "   number_of_policies     policy_type        policy  renew_offer_type  \\\n",
      "0                   9  Corporate Auto  Corporate L3            Offer3   \n",
      "1                   1   Personal Auto   Personal L3            Offer4   \n",
      "2                   2   Personal Auto   Personal L3            Offer3   \n",
      "3                   2  Corporate Auto  Corporate L3            Offer2   \n",
      "4                   7   Personal Auto   Personal L2            Offer1   \n",
      "\n",
      "   sales_channel  total_claim_amount  vehicle_class  vehicle_size  \\\n",
      "0          Agent          292.800000  Four-Door Car       Medsize   \n",
      "1    Call Center          744.924331  Four-Door Car       Medsize   \n",
      "2    Call Center          480.000000            SUV       Medsize   \n",
      "3         Branch          484.013411  Four-Door Car       Medsize   \n",
      "4         Branch          707.925645  Four-Door Car       Medsize   \n",
      "\n",
      "  vehicle_type month  \n",
      "0            A     2  \n",
      "1            A     1  \n",
      "2            A     2  \n",
      "3            A     1  \n",
      "4            A     1  \n",
      "\n",
      "[5 rows x 27 columns]\n",
      "               total_claim_amount\n",
      "sales_channel                    \n",
      "Agent                  1810226.82\n",
      "Branch                 1301204.00\n",
      "Call Center             926600.82\n",
      "Web                     706600.04\n"
     ]
    }
   ],
   "source": [
    "import pandas as pd\n",
    "\n",
    "# Load the dataset\n",
    "url = 'https://raw.githubusercontent.com/data-bootcamp-v4/data/main/marketing_customer_analysis_clean.csv'\n",
    "df = pd.read_csv(url)\n",
    "\n",
    "# Check the first few rows of the dataframe to understand its structure\n",
    "print(df.head())\n",
    "\n",
    "# Create a pivot table to summarize the total revenue for each sales channel\n",
    "pivot_sales_channel = df.pivot_table(\n",
    "    values='total_claim_amount',  # assuming total_claim_amount represents the total revenue\n",
    "    index='sales_channel',  # sales channel column\n",
    "    aggfunc='sum'  # Sum up the total revenue\n",
    ")\n",
    "\n",
    "# Round the total revenue to 2 decimal points\n",
    "pivot_sales_channel = pivot_sales_channel.round(2)\n",
    "\n",
    "# Display the pivot table\n",
    "print(pivot_sales_channel)\n"
   ]
  },
  {
   "cell_type": "code",
   "execution_count": 17,
   "id": "c176eb49",
   "metadata": {},
   "outputs": [
    {
     "name": "stdout",
     "output_type": "stream",
     "text": [
      "                             customer_lifetime_value\n",
      "gender education                                    \n",
      "F      Bachelor                              7874.27\n",
      "       College                               7748.82\n",
      "       Doctor                                7328.51\n",
      "       High School or Below                  8675.22\n",
      "       Master                                8157.05\n",
      "M      Bachelor                              7703.60\n",
      "       College                               8052.46\n",
      "       Doctor                                7415.33\n",
      "       High School or Below                  8149.69\n",
      "       Master                                8168.83\n"
     ]
    }
   ],
   "source": [
    "# Create a pivot table to summarize the average customer lifetime value per gender and education level\n",
    "pivot_clv = df.pivot_table(\n",
    "    values='customer_lifetime_value',  # assuming 'customer_lifetime_value' is the relevant column\n",
    "    index=['gender', 'education'],  # Grouping by gender and education level\n",
    "    aggfunc='mean'  # Calculate the average\n",
    ")\n",
    "\n",
    "# Round the average lifetime value to 2 decimal points\n",
    "pivot_clv = pivot_clv.round(2)\n",
    "\n",
    "# Display the pivot table\n",
    "print(pivot_clv)\n"
   ]
  },
  {
   "cell_type": "markdown",
   "id": "df35fd0d-513e-4e77-867e-429da10a9cc7",
   "metadata": {
    "id": "df35fd0d-513e-4e77-867e-429da10a9cc7"
   },
   "source": [
    "1. You work at the marketing department and you want to know which sales channel brought the most sales in terms of total revenue. Using pivot, create a summary table showing the total revenue for each sales channel (branch, call center, web, and mail).\n",
    "Round the total revenue to 2 decimal points.  Analyze the resulting table to draw insights."
   ]
  },
  {
   "cell_type": "markdown",
   "id": "640993b2-a291-436c-a34d-a551144f8196",
   "metadata": {
    "id": "640993b2-a291-436c-a34d-a551144f8196"
   },
   "source": [
    "2. Create a pivot table that shows the average customer lifetime value per gender and education level. Analyze the resulting table to draw insights."
   ]
  },
  {
   "cell_type": "markdown",
   "id": "32c7f2e5-3d90-43e5-be33-9781b6069198",
   "metadata": {
    "id": "32c7f2e5-3d90-43e5-be33-9781b6069198"
   },
   "source": [
    "## Bonus\n",
    "\n",
    "You work at the customer service department and you want to know which months had the highest number of complaints by policy type category. Create a summary table showing the number of complaints by policy type and month.\n",
    "Show it in a long format table."
   ]
  },
  {
   "cell_type": "markdown",
   "id": "e3d09a8f-953c-448a-a5f8-2e5a8cca7291",
   "metadata": {
    "id": "e3d09a8f-953c-448a-a5f8-2e5a8cca7291"
   },
   "source": [
    "*In data analysis, a long format table is a way of structuring data in which each observation or measurement is stored in a separate row of the table. The key characteristic of a long format table is that each column represents a single variable, and each row represents a single observation of that variable.*\n",
    "\n",
    "*More information about long and wide format tables here: https://www.statology.org/long-vs-wide-data/*"
   ]
  },
  {
   "cell_type": "code",
   "execution_count": null,
   "id": "3a069e0b-b400-470e-904d-d17582191be4",
   "metadata": {
    "id": "3a069e0b-b400-470e-904d-d17582191be4"
   },
   "outputs": [],
   "source": [
    "# Your code goes here"
   ]
  }
 ],
 "metadata": {
  "colab": {
   "provenance": []
  },
  "kernelspec": {
   "display_name": "base",
   "language": "python",
   "name": "python3"
  },
  "language_info": {
   "codemirror_mode": {
    "name": "ipython",
    "version": 3
   },
   "file_extension": ".py",
   "mimetype": "text/x-python",
   "name": "python",
   "nbconvert_exporter": "python",
   "pygments_lexer": "ipython3",
   "version": "3.12.7"
  }
 },
 "nbformat": 4,
 "nbformat_minor": 5
}
